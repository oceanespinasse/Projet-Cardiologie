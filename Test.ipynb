{
 "cells": [
  {
   "cell_type": "markdown",
   "id": "33522820",
   "metadata": {},
   "source": [
    "# Requirement"
   ]
  },
  {
   "cell_type": "code",
   "execution_count": null,
   "id": "6297cedf",
   "metadata": {},
   "outputs": [],
   "source": [
    "import numpy as np\n",
    "import pandas as pd\n",
    "import tensorflow as tsflw\n",
    "import h5py as h5\n",
    "import xmljson as xml\n",
    "import scipy as sp\n",
    "#import scikit-learn as sktl\n",
    "import tqdm as tq\n",
    "import xarray as xa\n",
    "import seaborn as sb\n",
    "import openpyxl as opyx\n",
    "\n",
    "print(\"numpy : \",np.__version__, \"doit etre >= 1.14.3\")\n",
    "print(\"pandas : \",pd.__version__, \"doit etre >= 0.22\") #PPPPPPPPPPPPPRRRRRRRRRRRROOOOOOOOOOBBBBBBBBBBLLLLLLLLMMMMMMMMMM\n",
    "print(\"tensorflow: \",tsflw.__version__, \"doit etre = 2.2\")\n",
    "print(\"h5py: \",h5.__version__, \"doit etre >= 2.8\")\n",
    "print(\"xmljson : \",xml.__version__, \"doit etre >= 0.1.9\")\n",
    "print(\"scipy : \",sp.__version__, \"doit etre >= 1.1\")\n",
    "#print(\"scikit-learn: \",sktl.__version__, \"doit etre >= 0.20\")\n",
    "print(\"tqdm : \",tq.__version__, \"doit etre >= 4.26\")\n",
    "print(\"xarray : \",xa.__version__, \"doit etre >= 0.11.2\")\n",
    "print(\"seaborn : \",sb.__version__, \"doit etre >= 0.9\")\n",
    "print(\"openpyxl : \",opyx.__version__, \"doit etre >= 3.0\")"
   ]
  },
  {
   "cell_type": "markdown",
   "id": "5512b38f",
   "metadata": {},
   "source": [
    "# Test du git"
   ]
  },
  {
   "cell_type": "code",
   "execution_count": null,
   "id": "6be5da6c",
   "metadata": {},
   "outputs": [],
   "source": [
    "import pandas as pd\n",
    "import numpy as np\n",
    "import matplotlib.pyplot as plt"
   ]
  },
  {
   "cell_type": "markdown",
   "id": "1b71848b",
   "metadata": {},
   "source": [
    "### Etude des données du jeu d'entrainement"
   ]
  },
  {
   "cell_type": "markdown",
   "id": "83acbf49",
   "metadata": {},
   "source": [
    "Ouverture du fichier 'ecg_tracings.hdf5' contenant un seul jeu de données nommé tracings. Cet ensemble de données est un tenseur (827, 4096, 12). La première dimension correspond aux 827 examens différents de différents patients ; la deuxième dimension correspond aux 4096 échantillons de signal ; la troisième dimension aux 12 dérivations différentes des examens ECG dans l'ordre suivant : {DI, DII, DIII, AVL, AVF, AVR, V1, V2, V3, V4, V5, V6}."
   ]
  },
  {
   "cell_type": "code",
   "execution_count": null,
   "id": "1b41a5dd",
   "metadata": {},
   "outputs": [],
   "source": [
    "import h5py\n",
    "path = \"data/\"\n",
    "with h5py.File(path+'ecg_tracings.hdf5', \"r\") as f:\n",
    "    u = np.array(f['tracings'])\n",
    "print(u.shape)"
   ]
  },
  {
   "cell_type": "markdown",
   "id": "11f13a9c",
   "metadata": {},
   "source": [
    "Ouverture du fichier 'attributes.csv' qui contient les attributs de base du patient : sexe (M ou F) et âge. Il contient 827 lignes (plus l'en-tête). Le i-ème tracé dans ecg_tracings.hdf5 correspond à la i-ème ligne."
   ]
  },
  {
   "cell_type": "code",
   "execution_count": null,
   "id": "a3274282",
   "metadata": {},
   "outputs": [],
   "source": [
    "path = \"data/\"\n",
    "attribute = pd.read_csv(path+'attributes.csv')\n",
    "print(attribute.shape)\n",
    "display(attribute.head())"
   ]
  },
  {
   "cell_type": "markdown",
   "id": "1656f295",
   "metadata": {},
   "source": [
    "Ouverture du fichier 'cardiologist1.csv' qui contient des annotations du premier cardiologue."
   ]
  },
  {
   "cell_type": "code",
   "execution_count": null,
   "id": "34ab61dc",
   "metadata": {},
   "outputs": [],
   "source": [
    "path = \"data/annotations/\"\n",
    "cardio1 = pd.read_csv(path+'cardiologist1.csv')\n",
    "print(cardio1.shape)\n",
    "display(cardio1.head())"
   ]
  },
  {
   "cell_type": "markdown",
   "id": "5c420b06",
   "metadata": {},
   "source": [
    "Ouverture du fichier 'cardiologist2.csv' qui contient des annotations du deuxième cardiologue."
   ]
  },
  {
   "cell_type": "code",
   "execution_count": null,
   "id": "debda98a",
   "metadata": {},
   "outputs": [],
   "source": [
    "path = \"data/annotations/\"\n",
    "cardio2 = pd.read_csv(path+'cardiologist2.csv')\n",
    "print(cardio2.shape)\n",
    "display(cardio2.head())"
   ]
  },
  {
   "cell_type": "markdown",
   "id": "83385f80",
   "metadata": {},
   "source": [
    "Ouverture du fichier 'dnn.csv' qui contient les prédiction à partir du réseau de neurones profonds décrit dans \"Diagnostic automatique de l'ECG de courte durée à 12 dérivations à l'aide d'un réseau de neurones profonds\". Le seuil est fixé de manière à maximiser le score F1."
   ]
  },
  {
   "cell_type": "code",
   "execution_count": null,
   "id": "31c4f14a",
   "metadata": {},
   "outputs": [],
   "source": [
    "path = \"data/annotations/\"\n",
    "dnn = pd.read_csv(path+'dnn.csv')\n",
    "print(dnn.shape)\n",
    "display(dnn.head())"
   ]
  },
  {
   "cell_type": "markdown",
   "id": "693293af",
   "metadata": {},
   "source": [
    "Ouverture du fichier 'cardiology_residents.csv' qui contient les annotations de deux résidents en cardiologie de 4e année (chacun annoté la moitié de l'ensemble de données)."
   ]
  },
  {
   "cell_type": "code",
   "execution_count": null,
   "id": "4d5327bc",
   "metadata": {},
   "outputs": [],
   "source": [
    "path = \"data/annotations/\"\n",
    "cardio_resident = pd.read_csv(path+'cardiology_residents.csv')\n",
    "print(cardio_resident.shape)\n",
    "display(cardio_resident.head())"
   ]
  },
  {
   "cell_type": "markdown",
   "id": "1001adc4",
   "metadata": {},
   "source": [
    "Ouverture du fichier 'emergency_residents.csv' qui contient les annotations de deux résidents d'urgence de 3e année (chacun annoté la moitié de l'ensemble de données)."
   ]
  },
  {
   "cell_type": "code",
   "execution_count": null,
   "id": "c97e0c04",
   "metadata": {},
   "outputs": [],
   "source": [
    "path = \"data/annotations/\"\n",
    "emerg_resident = pd.read_csv(path+'emergency_residents.csv')\n",
    "print(emerg_resident.shape)\n",
    "display(emerg_resident.head())"
   ]
  },
  {
   "cell_type": "markdown",
   "id": "9e725b6c",
   "metadata": {},
   "source": [
    "Ouverture du fichier 'medical_students.csv' qui contient les annotations de deux étudiants en médecine de 5e année (chacun annoté la moitié de l'ensemble de données)."
   ]
  },
  {
   "cell_type": "code",
   "execution_count": null,
   "id": "01bec42b",
   "metadata": {},
   "outputs": [],
   "source": [
    "path = \"data/annotations/\"\n",
    "med_student = pd.read_csv(path+'medical_students.csv')\n",
    "print(med_student.shape)\n",
    "display(med_student.head())"
   ]
  },
  {
   "cell_type": "markdown",
   "id": "a912208b",
   "metadata": {},
   "source": [
    "Ouverture du fichier 'gold_standard.csv' contenant les annotation d'étalon-or pour cet ensemble de données de test. Lorsque le cardiologue 1 et le cardiologue 2 étaient d'accord, le diagnostic commun était considéré comme le gold standard. En cas de désaccord, un troisième spécialiste principal, au courant des annotations des deux autres, décidait du diagnostic."
   ]
  },
  {
   "cell_type": "code",
   "execution_count": null,
   "id": "b5e93c84",
   "metadata": {},
   "outputs": [],
   "source": [
    "lead_order = [\"DI\", \"DII\", \"DIII\", \"AVL\", \"AVF\", \"AVR\", \"V1\", \"V2\", \"V3\", \"V4\", \"V5\", \"V6\"]\n",
    "path = \"data/annotations/\"\n",
    "df_goldStandard = pd.read_csv(path+'gold_standard.csv')\n",
    "df_goldStandard['nb_abnormality'] =  df_goldStandard.sum(axis=1)\n",
    "print(df_goldStandard.shape)\n",
    "display(df_goldStandard.head(20).T)"
   ]
  },
  {
   "cell_type": "code",
   "execution_count": null,
   "id": "8d0f1fb1",
   "metadata": {},
   "outputs": [],
   "source": [
    "df_goldStandard.describe()"
   ]
  },
  {
   "cell_type": "markdown",
   "id": "ec4c2c50",
   "metadata": {},
   "source": [
    "Visualisation des cardiogramme de 5 patient qui n'ont pas d'annomalies."
   ]
  },
  {
   "cell_type": "code",
   "execution_count": null,
   "id": "3cb57407",
   "metadata": {},
   "outputs": [],
   "source": [
    "for idx_abn, abnormality in enumerate(df_goldStandard.columns[:-1]):\n",
    "    print(abnormality,idx_abn)\n",
    "    \n",
    "# visualisation a refaire en mieux\n",
    "for idx_safe in df_goldStandard[df_goldStandard.nb_abnormality==0].index[:5]: #indice des gens qui ont un cardio safe\n",
    "    fig, axs = plt.subplots(1, 3,figsize=(40,5))\n",
    "    for i,pos in enumerate([1,6,11]):\n",
    "        ax = axs[i]\n",
    "        ax.set_title(lead_order[pos],fontsize=10)\n",
    "        ax.plot(np.linspace(0,10.24,4096),u[idx_safe,:,pos],'k', linewidth=.5)\n",
    "    plt.show()"
   ]
  },
  {
   "cell_type": "markdown",
   "id": "9f8361e9",
   "metadata": {},
   "source": [
    "Visualisation des cardiogrammes des patient qui ont une anomalie."
   ]
  },
  {
   "cell_type": "code",
   "execution_count": null,
   "id": "9dd2650c",
   "metadata": {},
   "outputs": [],
   "source": [
    "list_abnormality = [\"1dAVb\", \"RBBB\", \"LBBB\", \"SB\", \"AF\", \"ST\"]\n",
    "for abnormality in list_abnormality :\n",
    "    print(abnormality, ' : ')\n",
    "    for idx_anomal in df_goldStandard[(df_goldStandard[abnormality]==1)&(df_goldStandard.nb_abnormality==1)].index[:1] : #trouve l'indice ou le patient a l'anomalie\n",
    "        fig, axs = plt.subplots(1, 3,figsize=(40,5))\n",
    "        for i,pos in enumerate([1,6,11]):\n",
    "            ax = axs[i]\n",
    "            ax.set_title(lead_order[pos],fontsize=10)\n",
    "            ax.plot(np.linspace(0,10.24,4096),u[idx_safe,:,pos],'k', linewidth=.5)\n",
    "        plt.show()"
   ]
  },
  {
   "cell_type": "markdown",
   "id": "8c27a53d",
   "metadata": {},
   "source": [
    "Pourcentage de patient sans anomalie et atteind d'une certaine anomalie."
   ]
  },
  {
   "cell_type": "code",
   "execution_count": null,
   "id": "ca09a0d6",
   "metadata": {},
   "outputs": [],
   "source": [
    "#Patient sans anomalie\n",
    "nb_patient = (df_goldStandard.nb_abnormality==0).sum()\n",
    "print(nb_patient*100/827,'% de patient sans anomalie')\n",
    "\n",
    "#Patient avec anomalie\n",
    "list_abnormality = [\"1dAVb\", \"RBBB\", \"LBBB\", \"SB\", \"AF\", \"ST\"]\n",
    "for abnormality in list_abnormality :\n",
    "    nb_patient = df_goldStandard[abnormality].sum()\n",
    "    print(nb_patient*100/827,'% de patient atteind de ', abnormality)"
   ]
  },
  {
   "cell_type": "markdown",
   "id": "85eff103",
   "metadata": {},
   "source": [
    "maladie en fonction de l'age"
   ]
  },
  {
   "cell_type": "code",
   "execution_count": null,
   "id": "4a298222",
   "metadata": {},
   "outputs": [],
   "source": [
    "list_abnormality = [\"1dAVb\", \"RBBB\", \"LBBB\", \"SB\", \"AF\", \"ST\"]\n",
    "at = attribute[\"age\"]\n",
    "for index, abnormality in enumerate (list_abnormality) :\n",
    "    mal = df_goldStandard[abnormality]\n",
    "    plt.plot(at,mal,'.')\n",
    "    plt.xlabel(\"age\")\n",
    "    plt.ylabel(abnormality)\n",
    "    plt.show()"
   ]
  },
  {
   "cell_type": "markdown",
   "id": "bed566fc",
   "metadata": {},
   "source": [
    "Nombre de malade en fonction age"
   ]
  },
  {
   "cell_type": "code",
   "execution_count": null,
   "id": "4c8d1588",
   "metadata": {},
   "outputs": [],
   "source": [
    "at_age = attribute[\"age\"]\n",
    "list_abnormality = [\"1dAVb\", \"RBBB\", \"LBBB\", \"SB\", \"AF\", \"ST\"]\n",
    "\n",
    "for index, abnormality in enumerate (list_abnormality) :\n",
    "    tab_age = np.zeros((99))\n",
    "    for age in range (98):\n",
    "        tab = []\n",
    "        for i in range(827):\n",
    "            if at_age[i] == age :\n",
    "                tab.append(i)\n",
    "        #print(tab) \n",
    "        if tab != []:\n",
    "            compt = 0\n",
    "            for j in range (len(tab)):\n",
    "                if (df_goldStandard[abnormality][tab[j]] == 1):\n",
    "                    compt = compt+1\n",
    "            tab_age[age] = compt\n",
    "    z = np.linspace(0,99,99)\n",
    "    plt.plot(z,tab_age)\n",
    "    plt.legend(list_abnormality)\n",
    "plt.xlabel(\"age\")\n",
    "plt.ylabel(\"nombre de malade\")\n",
    "plt.show()"
   ]
  },
  {
   "cell_type": "markdown",
   "id": "dec8087c",
   "metadata": {},
   "source": [
    "Nombre de malade en fonction sex"
   ]
  },
  {
   "cell_type": "code",
   "execution_count": null,
   "id": "c93d90dd",
   "metadata": {},
   "outputs": [],
   "source": [
    "at_sex = attribute[\"sex\"]\n",
    "list_abnormality = [\"1dAVb\", \"RBBB\", \"LBBB\", \"SB\", \"AF\", \"ST\"]\n",
    "\n",
    "men_means = []\n",
    "women_means = []\n",
    "for index, abnormality in enumerate (list_abnormality) :\n",
    "    tab_sex = np.zeros((2))\n",
    "    for sex in [\"M\",\"F\"]:\n",
    "        tab = []\n",
    "        for i in range(827):\n",
    "            if at_sex[i] == sex :\n",
    "                tab.append(i)\n",
    "        #print(tab) \n",
    "        if tab != []:\n",
    "            compt = 0\n",
    "            for j in range (len(tab)):\n",
    "                if (df_goldStandard[abnormality][tab[j]] == 1):\n",
    "                    compt = compt+1\n",
    "        if sex == \"M\":\n",
    "            tab_sex[0] = compt\n",
    "        if sex == \"F\":\n",
    "            tab_sex[1] = compt\n",
    "    men_means.append(tab_sex[0])\n",
    "    women_means.append(tab_sex[1])\n",
    "x = np.arange(len(list_abnormality))\n",
    "width = 0.35\n",
    "fig,ax = plt.subplots()\n",
    "rects1 = ax.bar(x - width/2, men_means, width, label='Men')\n",
    "rects2 = ax.bar(x + width/2, women_means, width, label='Women')\n",
    "plt.xlabel(\"age\")\n",
    "plt.ylabel(\"nombre de malade\")\n",
    "ax.set_xticks(x)\n",
    "ax.set_xticklabels(list_abnormality)\n",
    "ax.legend()\n",
    "plt.show()"
   ]
  },
  {
   "cell_type": "markdown",
   "id": "e1511717",
   "metadata": {},
   "source": [
    "### Utilisation du réseau de neurones pour prévoir les anomalies (pathologies cardiaques)"
   ]
  },
  {
   "cell_type": "markdown",
   "id": "36f8c68a",
   "metadata": {},
   "source": [
    "##### Voir pour ajouter un train.py"
   ]
  },
  {
   "cell_type": "markdown",
   "id": "badf1f06",
   "metadata": {},
   "source": [
    "Exécution du programme 'predict.py' pour tester le modele modele.hdf5. Renvoie un fichier dnn_output.npy. "
   ]
  },
  {
   "cell_type": "code",
   "execution_count": null,
   "id": "eedf47cc",
   "metadata": {},
   "outputs": [],
   "source": [
    "%run -i  'predict.py' 'data/ecg_tracings.hdf5' 'dnn_predicts_hdf5/model.hdf5' "
   ]
  },
  {
   "cell_type": "markdown",
   "id": "2e3066e9",
   "metadata": {},
   "source": [
    "Affichage de dnn_predict"
   ]
  },
  {
   "cell_type": "code",
   "execution_count": null,
   "id": "cce1fa13",
   "metadata": {},
   "outputs": [],
   "source": [
    "df_ndarray = np.round(np.load(\"dnn_output.npy\"),5)\n",
    "dnn_out = pd.DataFrame(data = df_ndarray, columns = [\"1dAVb\",\"RBBB\",\"LBBB\",\"SB\",\"AF\",\"ST\"])\n",
    "dnn_out.head(11)"
   ]
  },
  {
   "cell_type": "markdown",
   "id": "092a572c",
   "metadata": {},
   "source": [
    "Exucution du programme 'generate_figures_and_tables.py' qui génère des figures et des tableaux à partir de l'article \"Automatic Diagnosis o the Short-Duration12-Lead ECG using a Deep Neural Network\". C'est-à-dire ......................................................................................................................................\n",
    "\n",
    "Faire du blabla !!!!!"
   ]
  },
  {
   "cell_type": "code",
   "execution_count": null,
   "id": "fe2458d8",
   "metadata": {},
   "outputs": [],
   "source": [
    "%run -i 'generate_figures_and_tables.py'"
   ]
  },
  {
   "cell_type": "markdown",
   "id": "fc98475c",
   "metadata": {},
   "source": [
    "Exécution du programme 'model.py' qui permet l'implémentation de l'architecture de réseau neuronal dans Keras. Le modèle utilisé dans l'article est un neurone résiduel. Le modèle reçoit un tenseur d'entrée de dimension (N, 4096, 12) et renvoie un tenseur de sortie de dimension (N, 6), pour lequel N est la taille du lot."
   ]
  },
  {
   "cell_type": "code",
   "execution_count": null,
   "id": "be910b75",
   "metadata": {},
   "outputs": [],
   "source": [
    "%run -i 'model.py'"
   ]
  },
  {
   "cell_type": "markdown",
   "id": "5f93b9b7",
   "metadata": {},
   "source": [
    "### Evaluation de la performance de notre classifieur"
   ]
  },
  {
   "cell_type": "markdown",
   "id": "5ff9cc5a",
   "metadata": {},
   "source": [
    "#### Pourcentage d'erreur  des prédictions faites par les différents médecins et le dnn d'antonio"
   ]
  },
  {
   "cell_type": "code",
   "execution_count": null,
   "id": "a2511d70",
   "metadata": {},
   "outputs": [],
   "source": [
    "list_med = [cardio1 , cardio2 , cardio_resident , emerg_resident , med_student, dnn ]\n",
    "list_med_str = ['cardio1', 'cardio2', 'cardio_resident', 'emerg_resident', 'med_student', 'dnn']\n",
    "list_abnormality = [\"1dAVb\", \"RBBB\", \"LBBB\", \"SB\", \"AF\", \"ST\"]\n",
    "\n",
    "for i,med in enumerate (list_med) :      \n",
    "    compt = 0\n",
    "    for patient in range (827):\n",
    "        for abn in list_abnormality:\n",
    "            if (df_goldStandard[abn][patient] != med[abn][patient]):\n",
    "                compt = compt + 1\n",
    "    print('Pourcentage d erreur du',list_med_str[i], ':', compt*100/827,'%' )\n",
    "    "
   ]
  },
  {
   "cell_type": "markdown",
   "id": "099e7f61",
   "metadata": {},
   "source": [
    "COMMENTAIRES ANGEL"
   ]
  },
  {
   "cell_type": "markdown",
   "id": "dbc8cb68",
   "metadata": {},
   "source": [
    "#### Comparaison avec autre méthode de prédiction"
   ]
  },
  {
   "cell_type": "code",
   "execution_count": null,
   "id": "4090d4bf",
   "metadata": {},
   "outputs": [],
   "source": [
    "from sklearn.model_selection import train_test_split\n"
   ]
  },
  {
   "cell_type": "code",
   "execution_count": null,
   "id": "d0f8c8ac",
   "metadata": {},
   "outputs": [],
   "source": [
    "x_train,x_test = train_test_split(u)\n",
    "y_train,y_test = train_test_split(df_goldStandard[\"nb_abnormality\"])\n",
    "\n",
    "print(x_train.shape)\n",
    "nsamples, nx, ny = x_train.shape\n",
    "x_train = x_train.reshape((nsamples,nx*ny))\n",
    "nsamples, nx, ny = x_test.shape\n",
    "x_test = x_test.reshape((nsamples,nx*ny))\n",
    "\n",
    "print(x_train.shape,x_test.shape)\n",
    "print(y_train.shape,y_test.shape)"
   ]
  },
  {
   "cell_type": "markdown",
   "id": "d14b51f8",
   "metadata": {},
   "source": [
    "##### Méthode du K-means (NON supervisée)"
   ]
  },
  {
   "cell_type": "code",
   "execution_count": null,
   "id": "c1031c0b",
   "metadata": {},
   "outputs": [],
   "source": [
    "from sklearn.cluster import KMeans\n",
    "from sklearn.metrics import confusion_matrix\n",
    "\n",
    "k = 2\n",
    "kmeans = KMeans(n_clusters = k, random_state = 42)\n",
    "kmeans.fit(x_train)"
   ]
  },
  {
   "cell_type": "markdown",
   "id": "4c91314b",
   "metadata": {},
   "source": [
    "#help(confusion_matrix) \n",
    "Faut faire help de la matrice de confusion pour expliquer chaque etape. "
   ]
  },
  {
   "cell_type": "code",
   "execution_count": null,
   "id": "53791a0f",
   "metadata": {},
   "outputs": [],
   "source": [
    "pred = kmeans.fit_predict(x_test)\n",
    "cm = confusion_matrix(y_test, pred)\n",
    "print(\"Pourcentage d'erreur : \", ((cm[1][0]+cm[0][1])*100/207),'%')"
   ]
  },
  {
   "cell_type": "markdown",
   "id": "69522c9f",
   "metadata": {},
   "source": [
    "##### Méthode de Random Forest (supervisée)"
   ]
  },
  {
   "cell_type": "code",
   "execution_count": null,
   "id": "834bc4b7",
   "metadata": {},
   "outputs": [],
   "source": [
    "from sklearn.ensemble import RandomForestClassifier\n",
    "\n",
    "modelRF = RandomForestClassifier(class_weight='balanced')\n",
    "modelRF.fit(x_train,y_train)\n",
    "y_predRF = modelRF.predict(x_test)"
   ]
  },
  {
   "cell_type": "code",
   "execution_count": null,
   "id": "6bf5154d",
   "metadata": {},
   "outputs": [],
   "source": [
    "cm = confusion_matrix(y_test, y_predRF)\n",
    "print(\"Pourcentage d'erreur : \", ((cm[1][0]+cm[0][1])*100/207),'%')"
   ]
  }
 ],
 "metadata": {
  "kernelspec": {
   "display_name": "Python 3 (ipykernel)",
   "language": "python",
   "name": "python3"
  },
  "language_info": {
   "codemirror_mode": {
    "name": "ipython",
    "version": 3
   },
   "file_extension": ".py",
   "mimetype": "text/x-python",
   "name": "python",
   "nbconvert_exporter": "python",
   "pygments_lexer": "ipython3",
   "version": "3.8.10"
  }
 },
 "nbformat": 4,
 "nbformat_minor": 5
}
